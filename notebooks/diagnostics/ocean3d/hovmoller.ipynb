{
 "cells": [
  {
   "cell_type": "code",
   "execution_count": 1,
   "id": "ee9b8b5a",
   "metadata": {},
   "outputs": [],
   "source": [
    "%reload_ext autoreload\n",
    "%autoreload 2"
   ]
  },
  {
   "cell_type": "code",
   "execution_count": 2,
   "id": "04032fc9",
   "metadata": {},
   "outputs": [
    {
     "name": "stderr",
     "output_type": "stream",
     "text": [
      "/LUMI_TYKKY_L60Yfbf/miniconda/envs/env1/lib/python3.12/site-packages/esmpy/interface/loadESMF.py:94: VersionWarning: ESMF installation version 8.8.0, ESMPy version 8.8.0b0\n",
      "  warnings.warn(\"ESMF installation version {}, ESMPy version {}\".format(\n"
     ]
    }
   ],
   "source": [
    "from aqua.diagnostics.ocean_drift import Hovmoller"
   ]
  },
  {
   "cell_type": "code",
   "execution_count": 25,
   "id": "bf387e92",
   "metadata": {},
   "outputs": [],
   "source": [
    "hov = Hovmoller(catalog='climatedt-phase1', model='IFS-NEMO', exp='historical-1990', source='lra-r100-monthly',\n",
    "          loglevel='INFO')"
   ]
  },
  {
   "cell_type": "code",
   "execution_count": 32,
   "id": "42c71425",
   "metadata": {},
   "outputs": [
    {
     "name": "stderr",
     "output_type": "stream",
     "text": [
      "\u001b[32m2025-05-16 18:46:21 :: Hovmoller :: INFO     -> Running Hovmoller diagram generation\u001b[0m\n",
      "\u001b[32m2025-05-16 18:46:21 :: ConfigPath :: INFO     -> IFS-NEMO_historical-1990_lra-r100-monthly triplet found in in climatedt-phase1!\u001b[0m\n",
      "\u001b[33m2025-05-16 18:46:21 :: ConfigPath :: WARNING  -> No paths found in the main configuration file {'climatedt-phase1': {'catalog': ['climatedt-e25.1', 'mn5-phase2', 'nextgems4', 'lumi-phase2', 'lumi-phase1', 'climatedt-phase1', 'obs'], 'machine': 'lumi', 'reader': {'catalog': '/users/nurissom/.aqua/catalogs/climatedt-phase1/catalog.yaml', 'machine': '/users/nurissom/.aqua/catalogs/climatedt-phase1/machine.yaml', 'fixer': '/users/nurissom/.aqua/fixes', 'regrid': '/users/nurissom/.aqua/grids'}, 'options': {'style': 'aqua'}}}\u001b[0m\n",
      "\u001b[32m2025-05-16 18:46:21 :: Reader :: INFO     -> Convention dictionary: eccodes-2.39.0\u001b[0m\n",
      "\u001b[32m2025-05-16 18:46:21 :: Reader :: INFO     -> No fixer_name found, only convention will be applied\u001b[0m\n",
      "\u001b[32m2025-05-16 18:46:21 :: Reader :: INFO     -> Grid metadata is lon-lat\u001b[0m\n",
      "\u001b[33m2025-05-16 18:46:21 :: Regridder :: WARNING  -> Source grid path not found. Please provide a dataset.\u001b[0m\n",
      "\u001b[33m2025-05-16 18:46:21 :: Reader :: WARNING  -> Issues in the Regridder() init: trying with data\u001b[0m\n",
      "2025-05-16 18:46:29 | smmregrid.GridInspect |     INFO -> Updating the log_level to INFO\n",
      "\u001b[32m2025-05-16 18:46:29 :: Regridder :: INFO     -> Using provided dataset as a grid path for 2d\u001b[0m\n",
      "\u001b[32m2025-05-16 18:46:29 :: Regridder :: INFO     -> Grid name: lon-lat\u001b[0m\n",
      "\u001b[32m2025-05-16 18:46:29 :: Regridder :: INFO     -> Loading existing source area from /pfs/lustrep3/appl/local/climatedt/data/AQUA/areas/cell_area_IFS-NEMO_historical-1990_lra-r100-monthly.nc.\u001b[0m\n",
      "\u001b[32m2025-05-16 18:46:29 :: CoordTransator :: INFO     -> Grid type: Regular\u001b[0m\n",
      "\u001b[32m2025-05-16 18:46:29 :: CoordTransator :: INFO     -> Target data model: aqua\u001b[0m\n",
      "\u001b[32m2025-05-16 18:46:29 :: CoordTransator :: INFO     -> Loading data model from /users/nurissom/.aqua/data_model/aqua.yaml\u001b[0m\n",
      "\u001b[32m2025-05-16 18:46:29 :: CoordTransator :: INFO     -> Analysing coordinate: latitude\u001b[0m\n",
      "\u001b[32m2025-05-16 18:46:29 :: CoordTransator :: INFO     -> Analysing coordinate: longitude\u001b[0m\n",
      "\u001b[32m2025-05-16 18:46:29 :: CoordTransator :: INFO     -> Coordinate isobaric not found in source coordinates.\u001b[0m\n",
      "\u001b[32m2025-05-16 18:46:29 :: CoordTransator :: INFO     -> Coordinate depth not found in source coordinates.\u001b[0m\n",
      "\u001b[32m2025-05-16 18:46:29 :: CoordTransator :: INFO     -> Coordinate time not found in source coordinates.\u001b[0m\n",
      "\u001b[32m2025-05-16 18:46:29 :: Reader :: INFO     -> Retrieving variables: ['thetao', 'so']\u001b[0m\n",
      "\u001b[32m2025-05-16 18:46:29 :: Reader :: INFO     -> Variables to be fixed: {'so': {'source': [262500, 263500, 'salt', 'avg_so', 'so'], 'grid': 262500}, 'thetao': {'source': [150129, 262501, 263501, 'avg_thetao', 'temp', 'ocpt', 'to', 'thetao'], 'grid': 262501}}\u001b[0m\n",
      "\u001b[32m2025-05-16 18:46:29 :: CoordTransator :: INFO     -> Grid type: Regular\u001b[0m\n",
      "\u001b[32m2025-05-16 18:46:29 :: CoordTransator :: INFO     -> Target data model: aqua\u001b[0m\n",
      "\u001b[32m2025-05-16 18:46:29 :: CoordTransator :: INFO     -> Loading data model from /users/nurissom/.aqua/data_model/aqua.yaml\u001b[0m\n",
      "\u001b[32m2025-05-16 18:46:29 :: CoordTransator :: INFO     -> Analysing coordinate: latitude\u001b[0m\n",
      "\u001b[32m2025-05-16 18:46:29 :: CoordTransator :: INFO     -> Analysing coordinate: longitude\u001b[0m\n",
      "\u001b[32m2025-05-16 18:46:29 :: CoordTransator :: INFO     -> Coordinate isobaric not found in source coordinates.\u001b[0m\n",
      "\u001b[32m2025-05-16 18:46:29 :: CoordTransator :: INFO     -> Coordinate depth not found in source coordinates.\u001b[0m\n",
      "\u001b[32m2025-05-16 18:46:29 :: CoordTransator :: INFO     -> Analysing coordinate: time\u001b[0m\n",
      "\u001b[32m2025-05-16 18:46:29 :: Hovmoller :: INFO     -> Data retrieved successfully\u001b[0m\n",
      "\u001b[32m2025-05-16 18:46:29 :: Hovmoller :: INFO     -> Applying area selection for region: sss\u001b[0m\n",
      "\u001b[32m2025-05-16 18:46:30 :: Hovmoller :: INFO     -> Processing data with standardise=False, anomaly_ref=None\u001b[0m\n",
      "\u001b[32m2025-05-16 18:46:30 :: Hovmoller :: INFO     -> Processing data with standardise=False, anomaly_ref=t0\u001b[0m\n",
      "\u001b[32m2025-05-16 18:46:30 :: Hovmoller :: INFO     -> Processing data with standardise=False, anomaly_ref=tmean\u001b[0m\n",
      "\u001b[32m2025-05-16 18:46:30 :: Hovmoller :: INFO     -> Processing data with standardise=True, anomaly_ref=None\u001b[0m\n",
      "\u001b[32m2025-05-16 18:46:30 :: Hovmoller :: INFO     -> Processing data with standardise=True, anomaly_ref=t0\u001b[0m\n",
      "\u001b[32m2025-05-16 18:46:30 :: Hovmoller :: INFO     -> Processing data with standardise=True, anomaly_ref=tmean\u001b[0m\n",
      "\u001b[32m2025-05-16 18:46:30 :: create_folder :: INFO     -> Folder ./netcdf already exists\u001b[0m\n",
      "\u001b[32m2025-05-16 18:46:33 :: OutputSaver :: INFO     -> NetCDF file successfully saved.\u001b[0m\n",
      "\u001b[32m2025-05-16 18:46:33 :: create_folder :: INFO     -> Folder ./netcdf already exists\u001b[0m\n",
      "\u001b[32m2025-05-16 18:46:37 :: OutputSaver :: INFO     -> NetCDF file successfully saved.\u001b[0m\n",
      "\u001b[32m2025-05-16 18:46:37 :: create_folder :: INFO     -> Folder ./netcdf already exists\u001b[0m\n",
      "\u001b[32m2025-05-16 18:46:40 :: OutputSaver :: INFO     -> NetCDF file successfully saved.\u001b[0m\n",
      "\u001b[32m2025-05-16 18:46:40 :: create_folder :: INFO     -> Folder ./netcdf already exists\u001b[0m\n",
      "/users/nurissom/.local/lib/python3.12/site-packages/dask/array/numpy_compat.py:57: RuntimeWarning: invalid value encountered in divide\n",
      "  x = np.divide(x1, x2, out)\n",
      "\u001b[32m2025-05-16 18:46:43 :: OutputSaver :: INFO     -> NetCDF file successfully saved.\u001b[0m\n",
      "\u001b[32m2025-05-16 18:46:43 :: create_folder :: INFO     -> Folder ./netcdf already exists\u001b[0m\n",
      "/users/nurissom/.local/lib/python3.12/site-packages/dask/array/numpy_compat.py:57: RuntimeWarning: invalid value encountered in divide\n",
      "  x = np.divide(x1, x2, out)\n",
      "\u001b[32m2025-05-16 18:46:47 :: OutputSaver :: INFO     -> NetCDF file successfully saved.\u001b[0m\n",
      "\u001b[32m2025-05-16 18:46:47 :: create_folder :: INFO     -> Folder ./netcdf already exists\u001b[0m\n",
      "/users/nurissom/.local/lib/python3.12/site-packages/dask/array/numpy_compat.py:57: RuntimeWarning: invalid value encountered in divide\n",
      "  x = np.divide(x1, x2, out)\n",
      "\u001b[32m2025-05-16 18:46:50 :: OutputSaver :: INFO     -> NetCDF file successfully saved.\u001b[0m\n",
      "\u001b[32m2025-05-16 18:46:50 :: Hovmoller :: INFO     -> Hovmoller diagram saved to netCDF file\u001b[0m\n"
     ]
    }
   ],
   "source": [
    "hov.run(region='sss')"
   ]
  },
  {
   "cell_type": "code",
   "execution_count": 9,
   "id": "fa0d030d",
   "metadata": {},
   "outputs": [
    {
     "data": {
      "text/plain": [
       "dict_keys(['full', 'anom_t0', 'anom_tmean', 'Std_full', 'Std_anom_t0', 'Std_anom_tmean'])"
      ]
     },
     "execution_count": 9,
     "metadata": {},
     "output_type": "execute_result"
    }
   ],
   "source": [
    "hov.processed_data_dic.keys()"
   ]
  }
 ],
 "metadata": {
  "kernelspec": {
   "display_name": "Python 3",
   "language": "python",
   "name": "python3"
  },
  "language_info": {
   "codemirror_mode": {
    "name": "ipython",
    "version": 3
   },
   "file_extension": ".py",
   "mimetype": "text/x-python",
   "name": "python",
   "nbconvert_exporter": "python",
   "pygments_lexer": "ipython3",
   "version": "3.12.9"
  }
 },
 "nbformat": 4,
 "nbformat_minor": 5
}
