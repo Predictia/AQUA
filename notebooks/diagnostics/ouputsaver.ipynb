{
 "cells": [
  {
   "cell_type": "code",
   "execution_count": 1,
   "id": "c3cc854f",
   "metadata": {},
   "outputs": [
    {
     "name": "stderr",
     "output_type": "stream",
     "text": [
      "/work/bb1153/b382321/miniforge3/envs/aqua/lib/python3.12/site-packages/intake_esm/__init__.py:6: UserWarning: pkg_resources is deprecated as an API. See https://setuptools.pypa.io/en/latest/pkg_resources.html. The pkg_resources package is slated for removal as early as 2025-11-30. Refrain from using this package or pin to Setuptools<81.\n",
      "  from pkg_resources import DistributionNotFound, get_distribution\n"
     ]
    }
   ],
   "source": [
    "import xarray as xr\n",
    "from aqua.diagnostics.core import OutputSaver\n",
    "from aqua.util import open_image\n",
    "import matplotlib.pyplot as plt\n"
   ]
  },
  {
   "cell_type": "markdown",
   "id": "3dcf2523",
   "metadata": {},
   "source": [
    "The cell below initializes an ``OutputSaver class`` instance with the specified parameters: ``diagnostic``, ``catalog``, ``model``, ``exp``, ``outdir`` and ``loglevel``. This instance will be used for generating descriptive filenames for the output files.\n",
    "\n",
    "Many diagnostics are based on comparisons between two datasets, such as a model and a reference dataset. \n",
    "In those cases, the triplet ``catalog-model-experiment`` for the reference dataset should be specified as well in the OutputSaver constructor."
   ]
  },
  {
   "cell_type": "code",
   "execution_count": 2,
   "id": "1696b511",
   "metadata": {},
   "outputs": [],
   "source": [
    "outputsaver = OutputSaver(diagnostic='globalbiases',\n",
    "                          catalog='climatedt-phase1', model='IFS-NEMO', exp='historical-1990',\n",
    "                          catalog_ref='obs', model_ref='ERA5', exp_ref='era5',\n",
    "                          outdir='.', loglevel= 'DEBUG')"
   ]
  },
  {
   "cell_type": "markdown",
   "id": "2b5979e5",
   "metadata": {},
   "source": [
    "Let's now generate a filename based on provided parameters.\n",
    "The ``generate_name`` method of the ``OutputSaver`` class requires to specify the ``diagnostic_product``, i.e. the type of output generate by the diagnostic (e.g. gregoryplot, histogram, timeseries, biasmap ecc.)"
   ]
  },
  {
   "cell_type": "code",
   "execution_count": 3,
   "id": "ad11262f",
   "metadata": {},
   "outputs": [
    {
     "name": "stderr",
     "output_type": "stream",
     "text": [
      "\u001b[37m2025-06-17 16:32:23 :: OutputSaver :: DEBUG    -> Generated filename: globalbiases.biasmap.climatedt-phase1.IFS-NEMO.historical-1990.obs.ERA5.era5\u001b[0m\n"
     ]
    },
    {
     "data": {
      "text/plain": [
       "'globalbiases.biasmap.climatedt-phase1.IFS-NEMO.historical-1990.obs.ERA5.era5'"
      ]
     },
     "execution_count": 3,
     "metadata": {},
     "output_type": "execute_result"
    }
   ],
   "source": [
    "outputsaver.generate_name(diagnostic_product='biasmap')"
   ]
  },
  {
   "cell_type": "markdown",
   "id": "bec7c5c7",
   "metadata": {},
   "source": [
    "If not specified in the outputsaver constructor, the catalog-model-experiment triplets for the principale and the reference dataset can be specified in the ``generate_name`` method."
   ]
  },
  {
   "cell_type": "markdown",
   "id": "a161ebaf",
   "metadata": {},
   "source": [
    "The user can also specify some extra parameters that will be added to the filename, such as ``variable``, ``region``, ``period``, ``pressure level`` etc.\n",
    "Extra-keys are not mandatory, but if specified, they will be added to the filename.\n",
    "They are completely free and can be used to add any kind of information that the user wants to have in the filename."
   ]
  },
  {
   "cell_type": "code",
   "execution_count": 4,
   "id": "0933a5b5",
   "metadata": {},
   "outputs": [
    {
     "name": "stderr",
     "output_type": "stream",
     "text": [
      "\u001b[37m2025-06-17 16:32:23 :: OutputSaver :: DEBUG    -> Generated filename: globalbiases.biasmap.climatedt-phase1.IFS-NEMO.historical-1990.obs.ERA5.era5.q.180000\u001b[0m\n"
     ]
    },
    {
     "data": {
      "text/plain": [
       "'globalbiases.biasmap.climatedt-phase1.IFS-NEMO.historical-1990.obs.ERA5.era5.q.180000'"
      ]
     },
     "execution_count": 4,
     "metadata": {},
     "output_type": "execute_result"
    }
   ],
   "source": [
    "extra_keys = {'variable': 'q',\n",
    "              'plev': 180000}\n",
    "\n",
    "outputsaver.generate_name(diagnostic_product='biasmap', extra_keys=extra_keys)"
   ]
  },
  {
   "cell_type": "markdown",
   "id": "c44c8429",
   "metadata": {},
   "source": [
    "Let's save a NetCDF file:"
   ]
  },
  {
   "cell_type": "code",
   "execution_count": 5,
   "id": "11be142d",
   "metadata": {},
   "outputs": [
    {
     "name": "stderr",
     "output_type": "stream",
     "text": [
      "\u001b[37m2025-06-17 16:32:23 :: OutputSaver :: DEBUG    -> Generated filename: globalbiases.test.climatedt-phase1.IFS-NEMO.historical-1990.obs.ERA5.era5.q.180000\u001b[0m\n",
      "\u001b[32m2025-06-17 16:32:23 :: create_folder :: INFO     -> Folder ./netcdf already exists\u001b[0m\n",
      "\u001b[32m2025-06-17 16:32:23 :: OutputSaver :: INFO     -> Saved NetCDF: ./netcdf/globalbiases.test.climatedt-phase1.IFS-NEMO.historical-1990.obs.ERA5.era5.q.180000.nc\u001b[0m\n"
     ]
    },
    {
     "data": {
      "text/plain": [
       "'./netcdf/globalbiases.test.climatedt-phase1.IFS-NEMO.historical-1990.obs.ERA5.era5.q.180000.nc'"
      ]
     },
     "execution_count": 5,
     "metadata": {},
     "output_type": "execute_result"
    }
   ],
   "source": [
    "data = xr.Dataset({'data': (('x', 'y'), [[1, 2], [3, 4]])})\n",
    "\n",
    "metadata = {\n",
    "    'title': 'Testing the saving of NetCDF files',\n",
    "    'author': 'OutputSaver',\n",
    "    'description': 'Demonstrating netCDF Metadata Addition',\n",
    "    'history': 'Created on 2023-10-01'\n",
    "}\n",
    "\n",
    "outputsaver.save_netcdf(data, 'test', extra_keys=extra_keys, metadata=metadata)"
   ]
  },
  {
   "cell_type": "code",
   "execution_count": 6,
   "id": "671b6eee",
   "metadata": {},
   "outputs": [
    {
     "data": {
      "text/html": [
       "<div><svg style=\"position: absolute; width: 0; height: 0; overflow: hidden\">\n",
       "<defs>\n",
       "<symbol id=\"icon-database\" viewBox=\"0 0 32 32\">\n",
       "<path d=\"M16 0c-8.837 0-16 2.239-16 5v4c0 2.761 7.163 5 16 5s16-2.239 16-5v-4c0-2.761-7.163-5-16-5z\"></path>\n",
       "<path d=\"M16 17c-8.837 0-16-2.239-16-5v6c0 2.761 7.163 5 16 5s16-2.239 16-5v-6c0 2.761-7.163 5-16 5z\"></path>\n",
       "<path d=\"M16 26c-8.837 0-16-2.239-16-5v6c0 2.761 7.163 5 16 5s16-2.239 16-5v-6c0 2.761-7.163 5-16 5z\"></path>\n",
       "</symbol>\n",
       "<symbol id=\"icon-file-text2\" viewBox=\"0 0 32 32\">\n",
       "<path d=\"M28.681 7.159c-0.694-0.947-1.662-2.053-2.724-3.116s-2.169-2.030-3.116-2.724c-1.612-1.182-2.393-1.319-2.841-1.319h-15.5c-1.378 0-2.5 1.121-2.5 2.5v27c0 1.378 1.122 2.5 2.5 2.5h23c1.378 0 2.5-1.122 2.5-2.5v-19.5c0-0.448-0.137-1.23-1.319-2.841zM24.543 5.457c0.959 0.959 1.712 1.825 2.268 2.543h-4.811v-4.811c0.718 0.556 1.584 1.309 2.543 2.268zM28 29.5c0 0.271-0.229 0.5-0.5 0.5h-23c-0.271 0-0.5-0.229-0.5-0.5v-27c0-0.271 0.229-0.5 0.5-0.5 0 0 15.499-0 15.5 0v7c0 0.552 0.448 1 1 1h7v19.5z\"></path>\n",
       "<path d=\"M23 26h-14c-0.552 0-1-0.448-1-1s0.448-1 1-1h14c0.552 0 1 0.448 1 1s-0.448 1-1 1z\"></path>\n",
       "<path d=\"M23 22h-14c-0.552 0-1-0.448-1-1s0.448-1 1-1h14c0.552 0 1 0.448 1 1s-0.448 1-1 1z\"></path>\n",
       "<path d=\"M23 18h-14c-0.552 0-1-0.448-1-1s0.448-1 1-1h14c0.552 0 1 0.448 1 1s-0.448 1-1 1z\"></path>\n",
       "</symbol>\n",
       "</defs>\n",
       "</svg>\n",
       "<style>/* CSS stylesheet for displaying xarray objects in jupyterlab.\n",
       " *\n",
       " */\n",
       "\n",
       ":root {\n",
       "  --xr-font-color0: var(--jp-content-font-color0, rgba(0, 0, 0, 1));\n",
       "  --xr-font-color2: var(--jp-content-font-color2, rgba(0, 0, 0, 0.54));\n",
       "  --xr-font-color3: var(--jp-content-font-color3, rgba(0, 0, 0, 0.38));\n",
       "  --xr-border-color: var(--jp-border-color2, #e0e0e0);\n",
       "  --xr-disabled-color: var(--jp-layout-color3, #bdbdbd);\n",
       "  --xr-background-color: var(--jp-layout-color0, white);\n",
       "  --xr-background-color-row-even: var(--jp-layout-color1, white);\n",
       "  --xr-background-color-row-odd: var(--jp-layout-color2, #eeeeee);\n",
       "}\n",
       "\n",
       "html[theme=\"dark\"],\n",
       "html[data-theme=\"dark\"],\n",
       "body[data-theme=\"dark\"],\n",
       "body.vscode-dark {\n",
       "  --xr-font-color0: rgba(255, 255, 255, 1);\n",
       "  --xr-font-color2: rgba(255, 255, 255, 0.54);\n",
       "  --xr-font-color3: rgba(255, 255, 255, 0.38);\n",
       "  --xr-border-color: #1f1f1f;\n",
       "  --xr-disabled-color: #515151;\n",
       "  --xr-background-color: #111111;\n",
       "  --xr-background-color-row-even: #111111;\n",
       "  --xr-background-color-row-odd: #313131;\n",
       "}\n",
       "\n",
       ".xr-wrap {\n",
       "  display: block !important;\n",
       "  min-width: 300px;\n",
       "  max-width: 700px;\n",
       "}\n",
       "\n",
       ".xr-text-repr-fallback {\n",
       "  /* fallback to plain text repr when CSS is not injected (untrusted notebook) */\n",
       "  display: none;\n",
       "}\n",
       "\n",
       ".xr-header {\n",
       "  padding-top: 6px;\n",
       "  padding-bottom: 6px;\n",
       "  margin-bottom: 4px;\n",
       "  border-bottom: solid 1px var(--xr-border-color);\n",
       "}\n",
       "\n",
       ".xr-header > div,\n",
       ".xr-header > ul {\n",
       "  display: inline;\n",
       "  margin-top: 0;\n",
       "  margin-bottom: 0;\n",
       "}\n",
       "\n",
       ".xr-obj-type,\n",
       ".xr-array-name {\n",
       "  margin-left: 2px;\n",
       "  margin-right: 10px;\n",
       "}\n",
       "\n",
       ".xr-obj-type {\n",
       "  color: var(--xr-font-color2);\n",
       "}\n",
       "\n",
       ".xr-sections {\n",
       "  padding-left: 0 !important;\n",
       "  display: grid;\n",
       "  grid-template-columns: 150px auto auto 1fr 0 20px 0 20px;\n",
       "}\n",
       "\n",
       ".xr-section-item {\n",
       "  display: contents;\n",
       "}\n",
       "\n",
       ".xr-section-item input {\n",
       "  display: inline-block;\n",
       "  opacity: 0;\n",
       "  height: 0;\n",
       "}\n",
       "\n",
       ".xr-section-item input + label {\n",
       "  color: var(--xr-disabled-color);\n",
       "}\n",
       "\n",
       ".xr-section-item input:enabled + label {\n",
       "  cursor: pointer;\n",
       "  color: var(--xr-font-color2);\n",
       "}\n",
       "\n",
       ".xr-section-item input:focus + label {\n",
       "  border: 2px solid var(--xr-font-color0);\n",
       "}\n",
       "\n",
       ".xr-section-item input:enabled + label:hover {\n",
       "  color: var(--xr-font-color0);\n",
       "}\n",
       "\n",
       ".xr-section-summary {\n",
       "  grid-column: 1;\n",
       "  color: var(--xr-font-color2);\n",
       "  font-weight: 500;\n",
       "}\n",
       "\n",
       ".xr-section-summary > span {\n",
       "  display: inline-block;\n",
       "  padding-left: 0.5em;\n",
       "}\n",
       "\n",
       ".xr-section-summary-in:disabled + label {\n",
       "  color: var(--xr-font-color2);\n",
       "}\n",
       "\n",
       ".xr-section-summary-in + label:before {\n",
       "  display: inline-block;\n",
       "  content: \"►\";\n",
       "  font-size: 11px;\n",
       "  width: 15px;\n",
       "  text-align: center;\n",
       "}\n",
       "\n",
       ".xr-section-summary-in:disabled + label:before {\n",
       "  color: var(--xr-disabled-color);\n",
       "}\n",
       "\n",
       ".xr-section-summary-in:checked + label:before {\n",
       "  content: \"▼\";\n",
       "}\n",
       "\n",
       ".xr-section-summary-in:checked + label > span {\n",
       "  display: none;\n",
       "}\n",
       "\n",
       ".xr-section-summary,\n",
       ".xr-section-inline-details {\n",
       "  padding-top: 4px;\n",
       "  padding-bottom: 4px;\n",
       "}\n",
       "\n",
       ".xr-section-inline-details {\n",
       "  grid-column: 2 / -1;\n",
       "}\n",
       "\n",
       ".xr-section-details {\n",
       "  display: none;\n",
       "  grid-column: 1 / -1;\n",
       "  margin-bottom: 5px;\n",
       "}\n",
       "\n",
       ".xr-section-summary-in:checked ~ .xr-section-details {\n",
       "  display: contents;\n",
       "}\n",
       "\n",
       ".xr-array-wrap {\n",
       "  grid-column: 1 / -1;\n",
       "  display: grid;\n",
       "  grid-template-columns: 20px auto;\n",
       "}\n",
       "\n",
       ".xr-array-wrap > label {\n",
       "  grid-column: 1;\n",
       "  vertical-align: top;\n",
       "}\n",
       "\n",
       ".xr-preview {\n",
       "  color: var(--xr-font-color3);\n",
       "}\n",
       "\n",
       ".xr-array-preview,\n",
       ".xr-array-data {\n",
       "  padding: 0 5px !important;\n",
       "  grid-column: 2;\n",
       "}\n",
       "\n",
       ".xr-array-data,\n",
       ".xr-array-in:checked ~ .xr-array-preview {\n",
       "  display: none;\n",
       "}\n",
       "\n",
       ".xr-array-in:checked ~ .xr-array-data,\n",
       ".xr-array-preview {\n",
       "  display: inline-block;\n",
       "}\n",
       "\n",
       ".xr-dim-list {\n",
       "  display: inline-block !important;\n",
       "  list-style: none;\n",
       "  padding: 0 !important;\n",
       "  margin: 0;\n",
       "}\n",
       "\n",
       ".xr-dim-list li {\n",
       "  display: inline-block;\n",
       "  padding: 0;\n",
       "  margin: 0;\n",
       "}\n",
       "\n",
       ".xr-dim-list:before {\n",
       "  content: \"(\";\n",
       "}\n",
       "\n",
       ".xr-dim-list:after {\n",
       "  content: \")\";\n",
       "}\n",
       "\n",
       ".xr-dim-list li:not(:last-child):after {\n",
       "  content: \",\";\n",
       "  padding-right: 5px;\n",
       "}\n",
       "\n",
       ".xr-has-index {\n",
       "  font-weight: bold;\n",
       "}\n",
       "\n",
       ".xr-var-list,\n",
       ".xr-var-item {\n",
       "  display: contents;\n",
       "}\n",
       "\n",
       ".xr-var-item > div,\n",
       ".xr-var-item label,\n",
       ".xr-var-item > .xr-var-name span {\n",
       "  background-color: var(--xr-background-color-row-even);\n",
       "  margin-bottom: 0;\n",
       "}\n",
       "\n",
       ".xr-var-item > .xr-var-name:hover span {\n",
       "  padding-right: 5px;\n",
       "}\n",
       "\n",
       ".xr-var-list > li:nth-child(odd) > div,\n",
       ".xr-var-list > li:nth-child(odd) > label,\n",
       ".xr-var-list > li:nth-child(odd) > .xr-var-name span {\n",
       "  background-color: var(--xr-background-color-row-odd);\n",
       "}\n",
       "\n",
       ".xr-var-name {\n",
       "  grid-column: 1;\n",
       "}\n",
       "\n",
       ".xr-var-dims {\n",
       "  grid-column: 2;\n",
       "}\n",
       "\n",
       ".xr-var-dtype {\n",
       "  grid-column: 3;\n",
       "  text-align: right;\n",
       "  color: var(--xr-font-color2);\n",
       "}\n",
       "\n",
       ".xr-var-preview {\n",
       "  grid-column: 4;\n",
       "}\n",
       "\n",
       ".xr-index-preview {\n",
       "  grid-column: 2 / 5;\n",
       "  color: var(--xr-font-color2);\n",
       "}\n",
       "\n",
       ".xr-var-name,\n",
       ".xr-var-dims,\n",
       ".xr-var-dtype,\n",
       ".xr-preview,\n",
       ".xr-attrs dt {\n",
       "  white-space: nowrap;\n",
       "  overflow: hidden;\n",
       "  text-overflow: ellipsis;\n",
       "  padding-right: 10px;\n",
       "}\n",
       "\n",
       ".xr-var-name:hover,\n",
       ".xr-var-dims:hover,\n",
       ".xr-var-dtype:hover,\n",
       ".xr-attrs dt:hover {\n",
       "  overflow: visible;\n",
       "  width: auto;\n",
       "  z-index: 1;\n",
       "}\n",
       "\n",
       ".xr-var-attrs,\n",
       ".xr-var-data,\n",
       ".xr-index-data {\n",
       "  display: none;\n",
       "  background-color: var(--xr-background-color) !important;\n",
       "  padding-bottom: 5px !important;\n",
       "}\n",
       "\n",
       ".xr-var-attrs-in:checked ~ .xr-var-attrs,\n",
       ".xr-var-data-in:checked ~ .xr-var-data,\n",
       ".xr-index-data-in:checked ~ .xr-index-data {\n",
       "  display: block;\n",
       "}\n",
       "\n",
       ".xr-var-data > table {\n",
       "  float: right;\n",
       "}\n",
       "\n",
       ".xr-var-name span,\n",
       ".xr-var-data,\n",
       ".xr-index-name div,\n",
       ".xr-index-data,\n",
       ".xr-attrs {\n",
       "  padding-left: 25px !important;\n",
       "}\n",
       "\n",
       ".xr-attrs,\n",
       ".xr-var-attrs,\n",
       ".xr-var-data,\n",
       ".xr-index-data {\n",
       "  grid-column: 1 / -1;\n",
       "}\n",
       "\n",
       "dl.xr-attrs {\n",
       "  padding: 0;\n",
       "  margin: 0;\n",
       "  display: grid;\n",
       "  grid-template-columns: 125px auto;\n",
       "}\n",
       "\n",
       ".xr-attrs dt,\n",
       ".xr-attrs dd {\n",
       "  padding: 0;\n",
       "  margin: 0;\n",
       "  float: left;\n",
       "  padding-right: 10px;\n",
       "  width: auto;\n",
       "}\n",
       "\n",
       ".xr-attrs dt {\n",
       "  font-weight: normal;\n",
       "  grid-column: 1;\n",
       "}\n",
       "\n",
       ".xr-attrs dt:hover span {\n",
       "  display: inline-block;\n",
       "  background: var(--xr-background-color);\n",
       "  padding-right: 10px;\n",
       "}\n",
       "\n",
       ".xr-attrs dd {\n",
       "  grid-column: 2;\n",
       "  white-space: pre-wrap;\n",
       "  word-break: break-all;\n",
       "}\n",
       "\n",
       ".xr-icon-database,\n",
       ".xr-icon-file-text2,\n",
       ".xr-no-icon {\n",
       "  display: inline-block;\n",
       "  vertical-align: middle;\n",
       "  width: 1em;\n",
       "  height: 1.5em !important;\n",
       "  stroke-width: 0;\n",
       "  stroke: currentColor;\n",
       "  fill: currentColor;\n",
       "}\n",
       "</style><pre class='xr-text-repr-fallback'>&lt;xarray.Dataset&gt; Size: 32B\n",
       "Dimensions:  (x: 2, y: 2)\n",
       "Dimensions without coordinates: x, y\n",
       "Data variables:\n",
       "    data     (x, y) int64 32B ...\n",
       "Attributes: (12/16)\n",
       "    history:             \\n2025-06-17 16:32:23 AQUA💧: Created on 2023-10-01;\\n\n",
       "    diagnostic:          globalbiases\n",
       "    diagnostic_product:  test\n",
       "    catalog:             climatedt-phase1\n",
       "    model:               IFS-NEMO\n",
       "    exp:                 historical-1990\n",
       "    ...                  ...\n",
       "    plev:                180000\n",
       "    timestamp:           2025-06-17 16:32:23\n",
       "    aqua_version:        0.16.0-alpha\n",
       "    title:               Testing the saving of NetCDF files\n",
       "    author:              OutputSaver\n",
       "    description:         Demonstrating netCDF Metadata Addition</pre><div class='xr-wrap' style='display:none'><div class='xr-header'><div class='xr-obj-type'>xarray.Dataset</div></div><ul class='xr-sections'><li class='xr-section-item'><input id='section-e4ba1235-74fb-4b09-bbae-57132b62cd6e' class='xr-section-summary-in' type='checkbox' disabled ><label for='section-e4ba1235-74fb-4b09-bbae-57132b62cd6e' class='xr-section-summary'  title='Expand/collapse section'>Dimensions:</label><div class='xr-section-inline-details'><ul class='xr-dim-list'><li><span>x</span>: 2</li><li><span>y</span>: 2</li></ul></div><div class='xr-section-details'></div></li><li class='xr-section-item'><input id='section-79ba95c9-6e44-48b2-9c09-294ec2beca20' class='xr-section-summary-in' type='checkbox' disabled ><label for='section-79ba95c9-6e44-48b2-9c09-294ec2beca20' class='xr-section-summary'  title='Expand/collapse section'>Coordinates: <span>(0)</span></label><div class='xr-section-inline-details'></div><div class='xr-section-details'><ul class='xr-var-list'></ul></div></li><li class='xr-section-item'><input id='section-a8320e3c-d953-43f4-8e79-f7093161cc6f' class='xr-section-summary-in' type='checkbox'  checked><label for='section-a8320e3c-d953-43f4-8e79-f7093161cc6f' class='xr-section-summary' >Data variables: <span>(1)</span></label><div class='xr-section-inline-details'></div><div class='xr-section-details'><ul class='xr-var-list'><li class='xr-var-item'><div class='xr-var-name'><span>data</span></div><div class='xr-var-dims'>(x, y)</div><div class='xr-var-dtype'>int64</div><div class='xr-var-preview xr-preview'>...</div><input id='attrs-63f9c712-1830-47e9-84ed-d9ae2c9c1eab' class='xr-var-attrs-in' type='checkbox' disabled><label for='attrs-63f9c712-1830-47e9-84ed-d9ae2c9c1eab' title='Show/Hide attributes'><svg class='icon xr-icon-file-text2'><use xlink:href='#icon-file-text2'></use></svg></label><input id='data-8562fc54-5c94-46bb-a868-06ce9c274cf9' class='xr-var-data-in' type='checkbox'><label for='data-8562fc54-5c94-46bb-a868-06ce9c274cf9' title='Show/Hide data repr'><svg class='icon xr-icon-database'><use xlink:href='#icon-database'></use></svg></label><div class='xr-var-attrs'><dl class='xr-attrs'></dl></div><div class='xr-var-data'><pre>[4 values with dtype=int64]</pre></div></li></ul></div></li><li class='xr-section-item'><input id='section-0634ac40-9b4b-47a5-a145-e56fae1dd996' class='xr-section-summary-in' type='checkbox' disabled ><label for='section-0634ac40-9b4b-47a5-a145-e56fae1dd996' class='xr-section-summary'  title='Expand/collapse section'>Indexes: <span>(0)</span></label><div class='xr-section-inline-details'></div><div class='xr-section-details'><ul class='xr-var-list'></ul></div></li><li class='xr-section-item'><input id='section-67d97a7c-b8c7-423c-9ef4-fe1f8752b7ea' class='xr-section-summary-in' type='checkbox'  ><label for='section-67d97a7c-b8c7-423c-9ef4-fe1f8752b7ea' class='xr-section-summary' >Attributes: <span>(16)</span></label><div class='xr-section-inline-details'></div><div class='xr-section-details'><dl class='xr-attrs'><dt><span>history :</span></dt><dd>\n",
       "2025-06-17 16:32:23 AQUA💧: Created on 2023-10-01;\n",
       "</dd><dt><span>diagnostic :</span></dt><dd>globalbiases</dd><dt><span>diagnostic_product :</span></dt><dd>test</dd><dt><span>catalog :</span></dt><dd>climatedt-phase1</dd><dt><span>model :</span></dt><dd>IFS-NEMO</dd><dt><span>exp :</span></dt><dd>historical-1990</dd><dt><span>catalog_ref :</span></dt><dd>obs</dd><dt><span>model_ref :</span></dt><dd>ERA5</dd><dt><span>exp_ref :</span></dt><dd>era5</dd><dt><span>variable :</span></dt><dd>q</dd><dt><span>plev :</span></dt><dd>180000</dd><dt><span>timestamp :</span></dt><dd>2025-06-17 16:32:23</dd><dt><span>aqua_version :</span></dt><dd>0.16.0-alpha</dd><dt><span>title :</span></dt><dd>Testing the saving of NetCDF files</dd><dt><span>author :</span></dt><dd>OutputSaver</dd><dt><span>description :</span></dt><dd>Demonstrating netCDF Metadata Addition</dd></dl></div></li></ul></div></div>"
      ],
      "text/plain": [
       "<xarray.Dataset> Size: 32B\n",
       "Dimensions:  (x: 2, y: 2)\n",
       "Dimensions without coordinates: x, y\n",
       "Data variables:\n",
       "    data     (x, y) int64 32B ...\n",
       "Attributes: (12/16)\n",
       "    history:             \\n2025-06-17 16:32:23 AQUA💧: Created on 2023-10-01;\\n\n",
       "    diagnostic:          globalbiases\n",
       "    diagnostic_product:  test\n",
       "    catalog:             climatedt-phase1\n",
       "    model:               IFS-NEMO\n",
       "    exp:                 historical-1990\n",
       "    ...                  ...\n",
       "    plev:                180000\n",
       "    timestamp:           2025-06-17 16:32:23\n",
       "    aqua_version:        0.16.0-alpha\n",
       "    title:               Testing the saving of NetCDF files\n",
       "    author:              OutputSaver\n",
       "    description:         Demonstrating netCDF Metadata Addition"
      ]
     },
     "execution_count": 6,
     "metadata": {},
     "output_type": "execute_result"
    }
   ],
   "source": [
    "xr.open_dataset('netcdf/globalbiases.test.climatedt-phase1.IFS-NEMO.historical-1990.obs.ERA5.era5.q.180000.nc')"
   ]
  },
  {
   "cell_type": "markdown",
   "id": "29f82fd0",
   "metadata": {},
   "source": [
    "Let's now save a plot in PDF and png formats, adding also some metadata. "
   ]
  },
  {
   "cell_type": "code",
   "execution_count": 7,
   "id": "a6804b32",
   "metadata": {},
   "outputs": [
    {
     "name": "stderr",
     "output_type": "stream",
     "text": [
      "\u001b[37m2025-06-17 16:32:25 :: OutputSaver :: DEBUG    -> Generated filename: globalbiases.test.climatedt-phase1.IFS-NEMO.historical-1990.obs.ERA5.era5.q.180000\u001b[0m\n",
      "\u001b[32m2025-06-17 16:32:25 :: create_folder :: INFO     -> Folder ./pdf already exists\u001b[0m\n",
      "\u001b[37m2025-06-17 16:32:26 :: add_pdf_metadata :: DEBUG    -> Keeping old metadata\u001b[0m\n",
      "\u001b[32m2025-06-17 16:32:26 :: OutputSaver :: INFO     -> Saved PDF: ./pdf/globalbiases.test.climatedt-phase1.IFS-NEMO.historical-1990.obs.ERA5.era5.q.180000.pdf\u001b[0m\n"
     ]
    },
    {
     "data": {
      "text/plain": [
       "'./pdf/globalbiases.test.climatedt-phase1.IFS-NEMO.historical-1990.obs.ERA5.era5.q.180000.pdf'"
      ]
     },
     "execution_count": 7,
     "metadata": {},
     "output_type": "execute_result"
    },
    {
     "data": {
      "image/png": "[encoded data removed]",
      "text/plain": [
       "<Figure size 640x480 with 1 Axes>"
      ]
     },
     "metadata": {},
     "output_type": "display_data"
    }
   ],
   "source": [
    "metadata = {\n",
    "    'Title': 'Sample PDF/png',\n",
    "    'Author': 'OutputSaver',\n",
    "    'Subject': 'Demonstrating PDF/png Metadata Addition',\n",
    "}\n",
    "\n",
    "fig, ax = plt.subplots()\n",
    "ax.plot([0, 1], [0, 1])\n",
    "\n",
    "outputsaver.save_pdf(fig, 'test', extra_keys=extra_keys, metadata=metadata)"
   ]
  },
  {
   "cell_type": "markdown",
   "id": "7c2a268f",
   "metadata": {},
   "source": [
    "Let's open the saved file to check that the metadata has been correctly added.\n",
    "\n",
    "As you can see, the aqua_version and the timestamp are default metadata always added automatically to the output files.\n"
   ]
  },
  {
   "cell_type": "code",
   "execution_count": 10,
   "id": "ad612da7",
   "metadata": {},
   "outputs": [
    {
     "data": {
      "text/html": [
       "<a href='pdf/globalbiases.test.climatedt-phase1.IFS-NEMO.historical-1990.obs.ERA5.era5.q.180000.pdf' target='_blank'>pdf/globalbiases.test.climatedt-phase1.IFS-NEMO.historical-1990.obs.ERA5.era5.q.180000.pdf</a><br>"
      ],
      "text/plain": [
       "/home/b/b382321/AQUA/notebooks/diagnostics/pdf/globalbiases.test.climatedt-phase1.IFS-NEMO.historical-1990.obs.ERA5.era5.q.180000.pdf"
      ]
     },
     "metadata": {},
     "output_type": "display_data"
    },
    {
     "data": {
      "text/plain": [
       "{'producer': 'Matplotlib pdf backend v3.10.3',\n",
       " 'creator': 'Matplotlib v3.10.3, https://matplotlib.org',\n",
       " 'creationdate': \"D:20250617163226+02'00'\",\n",
       " 'diagnostic': 'globalbiases',\n",
       " 'diagnostic_product': 'test',\n",
       " 'catalog': 'climatedt-phase1',\n",
       " 'model': 'IFS-NEMO',\n",
       " 'exp': 'historical-1990',\n",
       " 'catalog_ref': 'obs',\n",
       " 'model_ref': 'ERA5',\n",
       " 'exp_ref': 'era5',\n",
       " 'variable': 'q',\n",
       " 'plev': '180000',\n",
       " 'timestamp': '2025-06-17 16:32:26',\n",
       " 'aqua_version': '0.16.0-alpha',\n",
       " 'title': 'Sample PDF/png',\n",
       " 'author': 'OutputSaver',\n",
       " 'subject': 'Demonstrating PDF/png Metadata Addition'}"
      ]
     },
     "execution_count": 10,
     "metadata": {},
     "output_type": "execute_result"
    }
   ],
   "source": [
    "\n",
    "open_image(\"pdf/globalbiases.test.climatedt-phase1.IFS-NEMO.historical-1990.obs.ERA5.era5.q.180000.pdf\")"
   ]
  },
  {
   "cell_type": "markdown",
   "id": "2d9ab74a",
   "metadata": {},
   "source": [
    "Let's now save the plot in png format:"
   ]
  },
  {
   "cell_type": "code",
   "execution_count": 11,
   "id": "e821a54d",
   "metadata": {},
   "outputs": [
    {
     "name": "stderr",
     "output_type": "stream",
     "text": [
      "\u001b[37m2025-06-17 16:33:07 :: OutputSaver :: DEBUG    -> Generated filename: globalbiases.test.climatedt-phase1.IFS-NEMO.historical-1990.obs.ERA5.era5.q.180000\u001b[0m\n",
      "\u001b[32m2025-06-17 16:33:07 :: create_folder :: INFO     -> Folder ./png already exists\u001b[0m\n",
      "\u001b[37m2025-06-17 16:33:07 :: add_png_metadata :: DEBUG    -> Adding metadata: diagnostic = globalbiases\u001b[0m\n",
      "\u001b[37m2025-06-17 16:33:07 :: add_png_metadata :: DEBUG    -> Adding metadata: diagnostic_product = test\u001b[0m\n",
      "\u001b[37m2025-06-17 16:33:07 :: add_png_metadata :: DEBUG    -> Adding metadata: catalog = climatedt-phase1\u001b[0m\n",
      "\u001b[37m2025-06-17 16:33:07 :: add_png_metadata :: DEBUG    -> Adding metadata: model = IFS-NEMO\u001b[0m\n",
      "\u001b[37m2025-06-17 16:33:07 :: add_png_metadata :: DEBUG    -> Adding metadata: exp = historical-1990\u001b[0m\n",
      "\u001b[37m2025-06-17 16:33:07 :: add_png_metadata :: DEBUG    -> Adding metadata: catalog_ref = obs\u001b[0m\n",
      "\u001b[37m2025-06-17 16:33:07 :: add_png_metadata :: DEBUG    -> Adding metadata: model_ref = ERA5\u001b[0m\n",
      "\u001b[37m2025-06-17 16:33:07 :: add_png_metadata :: DEBUG    -> Adding metadata: exp_ref = era5\u001b[0m\n",
      "\u001b[37m2025-06-17 16:33:07 :: add_png_metadata :: DEBUG    -> Adding metadata: variable = q\u001b[0m\n",
      "\u001b[37m2025-06-17 16:33:07 :: add_png_metadata :: DEBUG    -> Adding metadata: plev = 180000\u001b[0m\n",
      "\u001b[37m2025-06-17 16:33:07 :: add_png_metadata :: DEBUG    -> Adding metadata: timestamp = 2025-06-17 16:33:07\u001b[0m\n",
      "\u001b[37m2025-06-17 16:33:07 :: add_png_metadata :: DEBUG    -> Adding metadata: aqua_version = 0.16.0-alpha\u001b[0m\n",
      "\u001b[32m2025-06-17 16:33:07 :: add_png_metadata :: INFO     -> Metadata added to PNG: ./png/globalbiases.test.climatedt-phase1.IFS-NEMO.historical-1990.obs.ERA5.era5.q.180000.png\u001b[0m\n",
      "\u001b[32m2025-06-17 16:33:07 :: OutputSaver :: INFO     -> Saved PNG: ./png/globalbiases.test.climatedt-phase1.IFS-NEMO.historical-1990.obs.ERA5.era5.q.180000.png\u001b[0m\n"
     ]
    },
    {
     "data": {
      "text/html": [
       "<a href='png/globalbiases.test.climatedt-phase1.IFS-NEMO.historical-1990.obs.ERA5.era5.q.180000.png' target='_blank'>png/globalbiases.test.climatedt-phase1.IFS-NEMO.historical-1990.obs.ERA5.era5.q.180000.png</a><br>"
      ],
      "text/plain": [
       "/home/b/b382321/AQUA/notebooks/diagnostics/png/globalbiases.test.climatedt-phase1.IFS-NEMO.historical-1990.obs.ERA5.era5.q.180000.png"
      ]
     },
     "metadata": {},
     "output_type": "display_data"
    },
    {
     "data": {
      "text/plain": [
       "{'diagnostic': 'globalbiases',\n",
       " 'diagnostic_product': 'test',\n",
       " 'catalog': 'climatedt-phase1',\n",
       " 'model': 'IFS-NEMO',\n",
       " 'exp': 'historical-1990',\n",
       " 'catalog_ref': 'obs',\n",
       " 'model_ref': 'ERA5',\n",
       " 'exp_ref': 'era5',\n",
       " 'variable': 'q',\n",
       " 'plev': '180000',\n",
       " 'timestamp': '2025-06-17 16:33:07',\n",
       " 'aqua_version': '0.16.0-alpha'}"
      ]
     },
     "execution_count": 11,
     "metadata": {},
     "output_type": "execute_result"
    }
   ],
   "source": [
    "outputsaver.save_png(fig, 'test', extra_keys=extra_keys, dpi=300)\n",
    "\n",
    "open_image(\"png/globalbiases.test.climatedt-phase1.IFS-NEMO.historical-1990.obs.ERA5.era5.q.180000.png\")"
   ]
  },
  {
   "cell_type": "markdown",
   "id": "080f1229",
   "metadata": {},
   "source": [
    "In some diagnostics we may want to do a multimodel or multireference comparison.\n",
    "In this case, the user can specify a list of catalog-model-experiment triplets for the reference dataset. To avoid too long filenames, the keyword ``multimodel`` or ``multiref`` will be used to indicate that the dataset is a list of triplets.\n",
    "Full information about the datasets will be stored in output file metadata."
   ]
  },
  {
   "cell_type": "code",
   "execution_count": 12,
   "id": "d6e3883d",
   "metadata": {},
   "outputs": [
    {
     "name": "stderr",
     "output_type": "stream",
     "text": [
      "\u001b[37m2025-06-17 16:33:10 :: OutputSaver :: DEBUG    -> Generated filename: globalbiases.test.multimodel.obs.ERA5.era5\u001b[0m\n"
     ]
    },
    {
     "data": {
      "text/plain": [
       "'globalbiases.test.multimodel.obs.ERA5.era5'"
      ]
     },
     "execution_count": 12,
     "metadata": {},
     "output_type": "execute_result"
    }
   ],
   "source": [
    "outputsaver = OutputSaver(diagnostic='globalbiases',\n",
    "                          catalog=['climatedt-phase1', 'climatedt-phase1'], model=['IFS-NEMO', 'ICON'],\n",
    "                          exp=['historical-1990', 'historical-1990'],\n",
    "                          catalog_ref='obs', model_ref='ERA5', exp_ref='era5',\n",
    "                          outdir='.', loglevel= 'DEBUG')\n",
    "outputsaver.generate_name(diagnostic_product='test')\n",
    "\n"
   ]
  },
  {
   "cell_type": "markdown",
   "id": "1b5a248e",
   "metadata": {},
   "source": [
    "The information about the datasets will not appear in the filename but it will be stored in the metadata of the output file, so that it can be easily retrieved later."
   ]
  },
  {
   "cell_type": "code",
   "execution_count": 13,
   "id": "26df67ca",
   "metadata": {},
   "outputs": [
    {
     "name": "stderr",
     "output_type": "stream",
     "text": [
      "\u001b[37m2025-06-17 16:33:14 :: OutputSaver :: DEBUG    -> Generated filename: globalbiases.test.multimodel.obs.ERA5.era5\u001b[0m\n",
      "\u001b[32m2025-06-17 16:33:14 :: create_folder :: INFO     -> Folder ./pdf already exists\u001b[0m\n",
      "\u001b[37m2025-06-17 16:33:14 :: add_pdf_metadata :: DEBUG    -> Keeping old metadata\u001b[0m\n",
      "\u001b[32m2025-06-17 16:33:14 :: OutputSaver :: INFO     -> Saved PDF: ./pdf/globalbiases.test.multimodel.obs.ERA5.era5.pdf\u001b[0m\n"
     ]
    },
    {
     "data": {
      "text/html": [
       "<a href='pdf/globalbiases.test.multimodel.obs.ERA5.era5.pdf' target='_blank'>pdf/globalbiases.test.multimodel.obs.ERA5.era5.pdf</a><br>"
      ],
      "text/plain": [
       "/home/b/b382321/AQUA/notebooks/diagnostics/pdf/globalbiases.test.multimodel.obs.ERA5.era5.pdf"
      ]
     },
     "metadata": {},
     "output_type": "display_data"
    },
    {
     "data": {
      "text/plain": [
       "{'producer': 'Matplotlib pdf backend v3.10.3',\n",
       " 'creator': 'Matplotlib v3.10.3, https://matplotlib.org',\n",
       " 'creationdate': \"D:20250617163314+02'00'\",\n",
       " 'diagnostic': 'globalbiases',\n",
       " 'diagnostic_product': 'test',\n",
       " 'catalog': \"['climatedt-phase1', 'climatedt-phase1']\",\n",
       " 'model': \"['IFS-NEMO', 'ICON']\",\n",
       " 'exp': \"['historical-1990', 'historical-1990']\",\n",
       " 'catalog_ref': 'obs',\n",
       " 'model_ref': 'ERA5',\n",
       " 'exp_ref': 'era5',\n",
       " 'timestamp': '2025-06-17 16:33:14',\n",
       " 'aqua_version': '0.16.0-alpha',\n",
       " 'title': 'Sample PDF/png',\n",
       " 'author': 'OutputSaver',\n",
       " 'subject': 'Demonstrating PDF/png Metadata Addition'}"
      ]
     },
     "execution_count": 13,
     "metadata": {},
     "output_type": "execute_result"
    },
    {
     "data": {
      "image/png": "[encoded data removed]",
      "text/plain": [
       "<Figure size 640x480 with 1 Axes>"
      ]
     },
     "metadata": {},
     "output_type": "display_data"
    }
   ],
   "source": [
    "metadata = {\n",
    "    'Title': 'Sample PDF/png',\n",
    "    'Author': 'OutputSaver',\n",
    "    'Subject': 'Demonstrating PDF/png Metadata Addition',\n",
    "}\n",
    "\n",
    "fig, ax = plt.subplots()\n",
    "ax.plot([0, 1], [0, 1])\n",
    "\n",
    "outputsaver.save_pdf(fig, 'test', metadata=metadata)\n",
    "open_image(\"pdf/globalbiases.test.multimodel.obs.ERA5.era5.pdf\")"
   ]
  }
 ],
 "metadata": {
  "kernelspec": {
   "display_name": "Python 3",
   "language": "python",
   "name": "python3"
  },
  "language_info": {
   "codemirror_mode": {
    "name": "ipython",
    "version": 3
   },
   "file_extension": ".py",
   "mimetype": "text/x-python",
   "name": "python",
   "nbconvert_exporter": "python",
   "pygments_lexer": "ipython3",
   "version": "3.12.11"
  }
 },
 "nbformat": 4,
 "nbformat_minor": 5
}
